{
 "cells": [
  {
   "cell_type": "markdown",
   "id": "d82b815d",
   "metadata": {},
   "source": [
    "Import the neccessary libraries"
   ]
  },
  {
   "cell_type": "code",
   "execution_count": 40,
   "id": "358eceae",
   "metadata": {},
   "outputs": [],
   "source": [
    "import pandas as pd\n",
    "import numpy as np\n",
    "import matplotlib.pyplot as plt\n",
    "from sklearn.model_selection import train_test_split\n",
    "from sklearn.linear_model import LinearRegression\n",
    "from sklearn.metrics import r2_score,mean_squared_error"
   ]
  },
  {
   "cell_type": "markdown",
   "id": "4aa8471d",
   "metadata": {},
   "source": [
    "Data Loading"
   ]
  },
  {
   "cell_type": "code",
   "execution_count": 41,
   "id": "940aeb3c",
   "metadata": {},
   "outputs": [
    {
     "name": "stdout",
     "output_type": "stream",
     "text": [
      "Loading Netflx stock data.....\n",
      "Data loaded successfully\n"
     ]
    }
   ],
   "source": [
    "print(\"Loading Netflx stock data.....\")\n",
    "df = pd.read_csv(\"netflix.csv\")\n",
    "print(\"Data loaded successfully\")"
   ]
  },
  {
   "cell_type": "markdown",
   "id": "065650d0",
   "metadata": {},
   "source": [
    "Data Preprocessing and Feature Engineering"
   ]
  },
  {
   "cell_type": "code",
   "execution_count": 42,
   "id": "97758d68",
   "metadata": {},
   "outputs": [
    {
     "name": "stdout",
     "output_type": "stream",
     "text": [
      "Missing values\n",
      "Date      0\n",
      "close     0\n",
      "high      0\n",
      "low       0\n",
      "open      0\n",
      "volume    0\n",
      "dtype: int64\n",
      "Duplicated values\n",
      "0\n",
      "Shape of features (X): (5824, 4)\n",
      "Shape of target (y) (5824,)\n"
     ]
    }
   ],
   "source": [
    "# Data Preprocessing involves cleaning and preparing the data for model\n",
    "# We'll define our features (X) and target (y)\n",
    "# The \"Date\" column is not a numerical feature, so we will not include it in our model\n",
    "\n",
    "# Rename the columns for clarity and consistency\n",
    "df.rename(columns={\n",
    "    \"Open\":\"open\",\n",
    "    \"Close\":\"close\",\n",
    "    \"High\":\"high\",\n",
    "    \"Low\":\"low\",\n",
    "    \"Open\":\"open\",\n",
    "    \"Volume\":\"volume\"\n",
    "},inplace=True)\n",
    "\n",
    "# Check for missing values \n",
    "df_missing = df.isnull().sum()\n",
    "print(\"Missing values\")\n",
    "print(df_missing)\n",
    "\n",
    "# Check for duplicated values\n",
    "df_duplicates = df.duplicated().sum()\n",
    "print(\"Duplicated values\")\n",
    "print(df_duplicates)\n",
    "\n",
    "# Drop duplicates if found\n",
    "df = df.drop_duplicates()\n",
    "\n",
    "# Drop any row wih missing values\n",
    "df = df.dropna()\n",
    "\n",
    "# Define the features (X) and the target (y)\n",
    "features = [\"open\",\"high\",\"low\",\"volume\"]\n",
    "target = \"close\"\n",
    "\n",
    "X = df[features]\n",
    "y = df[target]\n",
    "\n",
    "print(\"Shape of features (X):\",X.shape)\n",
    "print(\"Shape of target (y)\",y.shape)"
   ]
  },
  {
   "cell_type": "markdown",
   "id": "8e65877c",
   "metadata": {},
   "source": [
    "Data Spliting"
   ]
  },
  {
   "cell_type": "code",
   "execution_count": 43,
   "id": "b515327a",
   "metadata": {},
   "outputs": [
    {
     "name": "stdout",
     "output_type": "stream",
     "text": [
      "Number of samples in training set: 4659\n",
      "Number of samples in testing set: 1165\n"
     ]
    }
   ],
   "source": [
    "# We split the data into a training set and a testing set.\n",
    "# The model learns from the training data and is then evaluated on the testing data,\n",
    "# which it has never seen before. This gives a realistic measure of its performance.\n",
    "X_train, X_test, y_train, y_test = train_test_split(X, y, test_size=0.2, random_state=42)\n",
    "\n",
    "print(\"Number of samples in training set:\",len(X_train))\n",
    "print(\"Number of samples in testing set:\",len(X_test))"
   ]
  },
  {
   "cell_type": "markdown",
   "id": "81eb0fb2",
   "metadata": {},
   "source": [
    "Model Training"
   ]
  },
  {
   "cell_type": "code",
   "execution_count": 44,
   "id": "6e363347",
   "metadata": {},
   "outputs": [
    {
     "name": "stdout",
     "output_type": "stream",
     "text": [
      "Training the Linear Regression model...........\n",
      "Model Training complete!\n"
     ]
    }
   ],
   "source": [
    "# We initialize our Linear Regression model and train it using the training data\n",
    "# The \"fit\" method is where the magic happens, as the model learns the coefficients for its linear equation\n",
    "\n",
    "print(\"Training the Linear Regression model...........\")\n",
    "model = LinearRegression()\n",
    "model.fit(X_train,y_train)\n",
    "print(\"Model Training complete!\")"
   ]
  },
  {
   "cell_type": "markdown",
   "id": "be6e1824",
   "metadata": {},
   "source": [
    "Model Evaluation"
   ]
  },
  {
   "cell_type": "code",
   "execution_count": 45,
   "id": "dab09a7d",
   "metadata": {},
   "outputs": [
    {
     "name": "stdout",
     "output_type": "stream",
     "text": [
      "Evaluating the model.......\n",
      "Mean Sqaured Error (MSE): 4.99\n",
      "R-squared: 1.00\n"
     ]
    }
   ],
   "source": [
    "# We use the trained model to make predictions on the test set\n",
    "# We then evaluate these predictions using key metrics\n",
    "# Mean Squared Error (MSE) is the average of the squared errors\n",
    "# R-Squared measures the proportion of variance in the dependent variable that is predictable from the independent variables\n",
    "\n",
    "print(\"Evaluating the model.......\")\n",
    "y_pred = model.predict(X_test)\n",
    "\n",
    "mse = mean_squared_error(y_test,y_pred)\n",
    "r2 = r2_score(y_test,y_pred)\n",
    "\n",
    "print(f\"Mean Sqaured Error (MSE): {mse:.2f}\")\n",
    "print(f\"R-squared: {r2:.2f}\")"
   ]
  },
  {
   "cell_type": "markdown",
   "id": "73304a4d",
   "metadata": {},
   "source": [
    "Visualization"
   ]
  },
  {
   "cell_type": "code",
   "execution_count": 46,
   "id": "0b02ea6a",
   "metadata": {},
   "outputs": [
    {
     "data": {
      "image/png": "[encoded data removed]",
      "text/plain": [
       "<Figure size 1000x600 with 1 Axes>"
      ]
     },
     "metadata": {},
     "output_type": "display_data"
    }
   ],
   "source": [
    "# A scatter plot is an  excellent way to visualize the model's performance\n",
    "# We plot the actual prices against the predicted prices. If the model is perfect\n",
    "# all points will fall on the dashed red line\n",
    "\n",
    "plt.figure(figsize=(10,6))\n",
    "plt.scatter(y_test,y_pred,alpha=0.6)\n",
    "plt.plot([y_test.min(), y_test.max()], [y_test.min(), y_test.max()], 'r--', lw=2)\n",
    "plt.title(\"Actual vs Predicted Netflix Close Prices\")\n",
    "plt.xlabel(\"Actual Close Price\")\n",
    "plt.ylabel(\"Predicted Close Price\")\n",
    "plt.grid(True)\n",
    "plt.show()"
   ]
  },
  {
   "cell_type": "markdown",
   "id": "8fba68cd",
   "metadata": {},
   "source": [
    "Making a New Prediction"
   ]
  },
  {
   "cell_type": "code",
   "execution_count": 47,
   "id": "471803d7",
   "metadata": {},
   "outputs": [
    {
     "name": "stdout",
     "output_type": "stream",
     "text": [
      "Example prediction for a new data point\n",
      "Features: open=600, high:610, low=595, volume=5M\n",
      "Predicted Close Price: $604.19\n"
     ]
    }
   ],
   "source": [
    "# Finally, we can use our trained model  to make a prediction on a new, unseen data\n",
    "# This simulates how the model would be used in a real application\n",
    "# Note: These values are hypothetical\n",
    "\n",
    "new_data = pd.DataFrame({\n",
    "    \"open\":[600.0],\n",
    "    \"high\":[610.0],\n",
    "    \"low\":[595.0],\n",
    "    \"volume\":[5000000]\n",
    "})\n",
    "\n",
    "predicted_price = model.predict(new_data)\n",
    "print(\"Example prediction for a new data point\")\n",
    "print(f\"Features: open=600, high:610, low=595, volume=5M\")\n",
    "print(f\"Predicted Close Price: ${predicted_price[0]:.2f}\")"
   ]
  }
 ],
 "metadata": {
  "kernelspec": {
   "display_name": "Python 3",
   "language": "python",
   "name": "python3"
  },
  "language_info": {
   "codemirror_mode": {
    "name": "ipython",
    "version": 3
   },
   "file_extension": ".py",
   "mimetype": "text/x-python",
   "name": "python",
   "nbconvert_exporter": "python",
   "pygments_lexer": "ipython3",
   "version": "3.13.3"
  }
 },
 "nbformat": 4,
 "nbformat_minor": 5
}
